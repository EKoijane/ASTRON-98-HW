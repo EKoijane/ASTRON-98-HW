{
 "cells": [
  {
   "cell_type": "code",
   "execution_count": 5,
   "id": "2e0888da-9410-4caf-a94f-fe8a0e51fb9a",
   "metadata": {},
   "outputs": [],
   "source": [
    "import numpy as np"
   ]
  },
  {
   "cell_type": "code",
   "execution_count": 155,
   "id": "9305eb73-f962-4907-8190-03f74f7d2f49",
   "metadata": {},
   "outputs": [
    {
     "name": "stdout",
     "output_type": "stream",
     "text": [
      "[[5 7 9]\n",
      " [7 7 7]]\n"
     ]
    }
   ],
   "source": [
    "#1 The Odd Ones Out\n",
    "\n",
    "arr = np.array([[1, 2, 3], [5, 7, 9], [2, 4, 6], [7, 7, 7]])\n",
    "OddArr = np.all(arr % 2 == 1, axis=1)\n",
    "# Filter the array using the mask\n",
    "FinList = arr[OddArr]\n",
    "\n",
    "print(FinList)"
   ]
  },
  {
   "cell_type": "code",
   "execution_count": 23,
   "id": "31339503-e366-443c-9e7d-f5b3b7c90664",
   "metadata": {},
   "outputs": [
    {
     "name": "stdout",
     "output_type": "stream",
     "text": [
      "[[0. 0. 0. 0. 0. 0. 0. 0.]\n",
      " [0. 0. 0. 0. 0. 0. 0. 0.]\n",
      " [0. 0. 0. 0. 0. 0. 0. 0.]\n",
      " [0. 0. 0. 0. 0. 0. 0. 0.]\n",
      " [0. 0. 0. 0. 0. 0. 0. 0.]\n",
      " [0. 0. 0. 0. 0. 0. 0. 0.]\n",
      " [0. 0. 0. 0. 0. 0. 0. 0.]\n",
      " [0. 0. 0. 0. 0. 0. 0. 0.]]\n"
     ]
    }
   ],
   "source": [
    "#2 Let's Play Checkers! - 2.1\n",
    "\n",
    "checkerboard_0 = np.zeros((8,8))\n",
    "print(checkerboard_0)"
   ]
  },
  {
   "cell_type": "code",
   "execution_count": 115,
   "id": "275bb305-08fa-4b3e-a9a9-dd4cf3ce6cdd",
   "metadata": {},
   "outputs": [
    {
     "name": "stdout",
     "output_type": "stream",
     "text": [
      "[[1. 0. 1. 0. 1. 0. 1. 0.]\n",
      " [0. 1. 0. 1. 0. 1. 0. 1.]\n",
      " [1. 0. 1. 0. 1. 0. 1. 0.]\n",
      " [0. 1. 0. 1. 0. 1. 0. 1.]\n",
      " [1. 0. 1. 0. 1. 0. 1. 0.]\n",
      " [0. 1. 0. 1. 0. 1. 0. 1.]\n",
      " [1. 0. 1. 0. 1. 0. 1. 0.]\n",
      " [0. 1. 0. 1. 0. 1. 0. 1.]]\n"
     ]
    }
   ],
   "source": [
    "#2.2\n",
    "\n",
    "checkerboard = np.ones((8,8))\n",
    "checkerboard[1::2, ::2] = 0\n",
    "checkerboard[::2, 1::2] = 0\n",
    "print(checkerboard)"
   ]
  },
  {
   "cell_type": "code",
   "execution_count": 121,
   "id": "9244cee7-c7a6-4d15-a3d9-dec5fb543362",
   "metadata": {},
   "outputs": [
    {
     "name": "stdout",
     "output_type": "stream",
     "text": [
      "[[1. 0. 1. 0. 1. 0. 1. 0.]\n",
      " [0. 1. 0. 1. 0. 1. 0. 1.]\n",
      " [1. 0. 1. 0. 1. 0. 1. 0.]\n",
      " [0. 1. 0. 1. 0. 1. 0. 1.]\n",
      " [1. 0. 1. 0. 1. 0. 1. 0.]\n",
      " [0. 1. 0. 1. 0. 1. 0. 1.]\n",
      " [1. 0. 1. 0. 1. 0. 1. 0.]\n",
      " [0. 1. 0. 1. 0. 1. 0. 1.]]\n"
     ]
    }
   ],
   "source": [
    "#2.3\n",
    "\n",
    "checkerboard = np.ones((8,8))\n",
    "checkerboard[1::2, ::2] = 0\n",
    "checkerboard[::2, 1::2] = 0\n",
    "print(checkerboard)"
   ]
  },
  {
   "cell_type": "code",
   "execution_count": 35,
   "id": "d1fa7571-167c-40b9-9b0b-8c3720844bd5",
   "metadata": {},
   "outputs": [
    {
     "name": "stdout",
     "output_type": "stream",
     "text": [
      "[[0. 1. 0. 1. 0. 1. 0. 1.]\n",
      " [1. 0. 1. 0. 1. 0. 1. 0.]\n",
      " [0. 1. 0. 1. 0. 1. 0. 1.]\n",
      " [1. 0. 1. 0. 1. 0. 1. 0.]\n",
      " [0. 1. 0. 1. 0. 1. 0. 1.]\n",
      " [1. 0. 1. 0. 1. 0. 1. 0.]\n",
      " [0. 1. 0. 1. 0. 1. 0. 1.]\n",
      " [1. 0. 1. 0. 1. 0. 1. 0.]]\n"
     ]
    }
   ],
   "source": [
    "#2.4\n",
    "\n",
    "checkerboard = np.ones((3,3))\n",
    "checkerboard = np.zeros((8,8))\n",
    "checkerboard[::2, 1::2] = 1\n",
    "checkerboard[1::2, ::2] = 1\n",
    "print(checkerboard)"
   ]
  },
  {
   "cell_type": "code",
   "execution_count": 153,
   "id": "12380aa9-a3af-4781-bcf8-40b565c94092",
   "metadata": {},
   "outputs": [
    {
     "name": "stdout",
     "output_type": "stream",
     "text": [
      "g     a     l     a     x     y     ,           c     l     u     s     t     e     r     s\n"
     ]
    }
   ],
   "source": [
    "#3 The Expanding Universe\n",
    "\n",
    "def universe(string, numofspaces):\n",
    "    charr = np.array(list(string))\n",
    "    sparr = np.array([' ' * numofspaces] * (len(string) - 1))\n",
    "    stringfinal = np.char.add(charr[:-1], sparr)\n",
    "    finish = ''.join(stringfinal) + charr[-1]\n",
    "\n",
    "    return finish \n",
    "\n",
    "expansion = universe(\"galaxy, clusters\", 5)\n",
    "print(expansion)"
   ]
  },
  {
   "cell_type": "code",
   "execution_count": 159,
   "id": "a9d3463a-3a11-47e8-9f68-5e6b661d4c8e",
   "metadata": {},
   "outputs": [
    {
     "name": "stdout",
     "output_type": "stream",
     "text": [
      "[802 898 468 788 911]\n"
     ]
    }
   ],
   "source": [
    "#4\n",
    "\n",
    "def SecondLargest(arr):\n",
    "    SecondLargestArr = np.sort(arr, axis=0)[::-1]\n",
    "    \n",
    "    return SecondLargestArr[1]\n",
    "\n",
    "arr = np.array([[192, 898, 747, 692, 914],\n",
    "                [849, 249, 370, 658, 451],\n",
    "                [802, 785, 143, 198, 616],\n",
    "                [696, 926, 269, 788, 642],\n",
    "                [583, 372, 468, 899, 911]])\n",
    "                \n",
    "planets = SecondLargest(arr)\n",
    "print(planets)"
   ]
  }
 ],
 "metadata": {
  "kernelspec": {
   "display_name": "Python 3 (ipykernel)",
   "language": "python",
   "name": "python3"
  },
  "language_info": {
   "codemirror_mode": {
    "name": "ipython",
    "version": 3
   },
   "file_extension": ".py",
   "mimetype": "text/x-python",
   "name": "python",
   "nbconvert_exporter": "python",
   "pygments_lexer": "ipython3",
   "version": "3.12.4"
  }
 },
 "nbformat": 4,
 "nbformat_minor": 5
}
